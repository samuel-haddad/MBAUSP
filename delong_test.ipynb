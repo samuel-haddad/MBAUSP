{
  "nbformat": 4,
  "nbformat_minor": 0,
  "metadata": {
    "colab": {
      "provenance": [],
      "authorship_tag": "ABX9TyOUj53ka/edaE2GbZTIOdCb",
      "include_colab_link": true
    },
    "kernelspec": {
      "name": "python3",
      "display_name": "Python 3"
    },
    "language_info": {
      "name": "python"
    }
  },
  "cells": [
    {
      "cell_type": "markdown",
      "metadata": {
        "id": "view-in-github",
        "colab_type": "text"
      },
      "source": [
        "<a href=\"https://colab.research.google.com/github/samuel-haddad/MBAUSP/blob/main/delong_test.ipynb\" target=\"_parent\"><img src=\"https://colab.research.google.com/assets/colab-badge.svg\" alt=\"Open In Colab\"/></a>"
      ]
    },
    {
      "cell_type": "code",
      "execution_count": 1,
      "metadata": {
        "id": "Vwfr2Zu6M5Ks"
      },
      "outputs": [],
      "source": [
        "%%capture\n",
        "!pip install WORC\n",
        "#-------------------- RESTART RUNTIME --------------------#"
      ]
    },
    {
      "cell_type": "code",
      "source": [
        "#libs\n",
        "import pandas as pd\n",
        "from WORC.statistics.delong import delong_roc_test\n",
        "\n",
        "#-------------------- VALUES & PROBABILITIES --------------------#\n",
        "\n",
        "# import y values & models probs\n",
        "xgboost_probs = pd.DataFrame(pd.read_csv('/content/xgboost_probs.csv')[['ground_truth','prob_xgboost']])\n",
        "logreg_probs = pd.DataFrame(pd.read_csv('/content/logreg_probs.csv')['prob_logreg'])\n",
        "gpboos_probs = pd.DataFrame(pd.read_csv('/content/gpboost_probs.csv')['prob_gpboost'])\n",
        "\n",
        "# create dataframe\n",
        "df = pd.concat(objs=(xgboost_probs, logreg_probs, gpboos_probs), axis=1)\n",
        "\n",
        "#-------------------- DELONG TEST --------------------#\n",
        "# logreg x xgboost\n",
        "logreg_xgb = delong_roc_test(df['ground_truth'], df['prob_logreg'], df['prob_xgboost'])\n",
        "p_logreg_xgb = float(10**(logreg_xgb))\n",
        "\n",
        "# logreg x gpboost\n",
        "logreg_gpb = delong_roc_test(df['ground_truth'], df['prob_logreg'], df['prob_gpboost'])\n",
        "p_logreg_gpb = float(10**(logreg_gpb))\n",
        "\n",
        "# xgboost x gpboost\n",
        "xgb_gpb = delong_roc_test(df['ground_truth'], df['prob_xgboost'], df['prob_gpboost'])\n",
        "p_xgb_gpb = float(10**(xgb_gpb))\n",
        "\n",
        "# result dataframe\n",
        "p_values = [('p_value', p_logreg_xgb, p_logreg_gpb, p_xgb_gpb)]\n",
        "columns = ['','logreg x xgboost', 'logreg x gpboost', 'gpboost x xgboost']\n",
        "df_pvalues = pd.DataFrame(p_values, columns=columns)\n",
        "df_pvalues"
      ],
      "metadata": {
        "colab": {
          "base_uri": "https://localhost:8080/",
          "height": 115
        },
        "id": "1McqgPhAPAXR",
        "outputId": "512d189a-17d3-49c0-ce22-1d928ea2e83e"
      },
      "execution_count": 1,
      "outputs": [
        {
          "output_type": "stream",
          "name": "stdout",
          "text": [
            " [WARNING]  __init__:0084 >> Not running in a production installation (branch \"unknown\" from installed package)\n",
            "[INFO] Bayesian optimization through SMAC functionality currently not available. Please see https://worc.readthedocs.io/en/latest/static/additionalfunctionality.html.\n"
          ]
        },
        {
          "output_type": "execute_result",
          "data": {
            "text/plain": [
              "            logreg x xgboost  logreg x gpboost  gpboost x xgboost\n",
              "0  p_value          0.000003     3.984302e-198      3.155797e-216"
            ],
            "text/html": [
              "\n",
              "  <div id=\"df-666b904e-b807-405c-94c5-e4942c669e3a\">\n",
              "    <div class=\"colab-df-container\">\n",
              "      <div>\n",
              "<style scoped>\n",
              "    .dataframe tbody tr th:only-of-type {\n",
              "        vertical-align: middle;\n",
              "    }\n",
              "\n",
              "    .dataframe tbody tr th {\n",
              "        vertical-align: top;\n",
              "    }\n",
              "\n",
              "    .dataframe thead th {\n",
              "        text-align: right;\n",
              "    }\n",
              "</style>\n",
              "<table border=\"1\" class=\"dataframe\">\n",
              "  <thead>\n",
              "    <tr style=\"text-align: right;\">\n",
              "      <th></th>\n",
              "      <th></th>\n",
              "      <th>logreg x xgboost</th>\n",
              "      <th>logreg x gpboost</th>\n",
              "      <th>gpboost x xgboost</th>\n",
              "    </tr>\n",
              "  </thead>\n",
              "  <tbody>\n",
              "    <tr>\n",
              "      <th>0</th>\n",
              "      <td>p_value</td>\n",
              "      <td>0.000003</td>\n",
              "      <td>3.984302e-198</td>\n",
              "      <td>3.155797e-216</td>\n",
              "    </tr>\n",
              "  </tbody>\n",
              "</table>\n",
              "</div>\n",
              "      <button class=\"colab-df-convert\" onclick=\"convertToInteractive('df-666b904e-b807-405c-94c5-e4942c669e3a')\"\n",
              "              title=\"Convert this dataframe to an interactive table.\"\n",
              "              style=\"display:none;\">\n",
              "        \n",
              "  <svg xmlns=\"http://www.w3.org/2000/svg\" height=\"24px\"viewBox=\"0 0 24 24\"\n",
              "       width=\"24px\">\n",
              "    <path d=\"M0 0h24v24H0V0z\" fill=\"none\"/>\n",
              "    <path d=\"M18.56 5.44l.94 2.06.94-2.06 2.06-.94-2.06-.94-.94-2.06-.94 2.06-2.06.94zm-11 1L8.5 8.5l.94-2.06 2.06-.94-2.06-.94L8.5 2.5l-.94 2.06-2.06.94zm10 10l.94 2.06.94-2.06 2.06-.94-2.06-.94-.94-2.06-.94 2.06-2.06.94z\"/><path d=\"M17.41 7.96l-1.37-1.37c-.4-.4-.92-.59-1.43-.59-.52 0-1.04.2-1.43.59L10.3 9.45l-7.72 7.72c-.78.78-.78 2.05 0 2.83L4 21.41c.39.39.9.59 1.41.59.51 0 1.02-.2 1.41-.59l7.78-7.78 2.81-2.81c.8-.78.8-2.07 0-2.86zM5.41 20L4 18.59l7.72-7.72 1.47 1.35L5.41 20z\"/>\n",
              "  </svg>\n",
              "      </button>\n",
              "      \n",
              "  <style>\n",
              "    .colab-df-container {\n",
              "      display:flex;\n",
              "      flex-wrap:wrap;\n",
              "      gap: 12px;\n",
              "    }\n",
              "\n",
              "    .colab-df-convert {\n",
              "      background-color: #E8F0FE;\n",
              "      border: none;\n",
              "      border-radius: 50%;\n",
              "      cursor: pointer;\n",
              "      display: none;\n",
              "      fill: #1967D2;\n",
              "      height: 32px;\n",
              "      padding: 0 0 0 0;\n",
              "      width: 32px;\n",
              "    }\n",
              "\n",
              "    .colab-df-convert:hover {\n",
              "      background-color: #E2EBFA;\n",
              "      box-shadow: 0px 1px 2px rgba(60, 64, 67, 0.3), 0px 1px 3px 1px rgba(60, 64, 67, 0.15);\n",
              "      fill: #174EA6;\n",
              "    }\n",
              "\n",
              "    [theme=dark] .colab-df-convert {\n",
              "      background-color: #3B4455;\n",
              "      fill: #D2E3FC;\n",
              "    }\n",
              "\n",
              "    [theme=dark] .colab-df-convert:hover {\n",
              "      background-color: #434B5C;\n",
              "      box-shadow: 0px 1px 3px 1px rgba(0, 0, 0, 0.15);\n",
              "      filter: drop-shadow(0px 1px 2px rgba(0, 0, 0, 0.3));\n",
              "      fill: #FFFFFF;\n",
              "    }\n",
              "  </style>\n",
              "\n",
              "      <script>\n",
              "        const buttonEl =\n",
              "          document.querySelector('#df-666b904e-b807-405c-94c5-e4942c669e3a button.colab-df-convert');\n",
              "        buttonEl.style.display =\n",
              "          google.colab.kernel.accessAllowed ? 'block' : 'none';\n",
              "\n",
              "        async function convertToInteractive(key) {\n",
              "          const element = document.querySelector('#df-666b904e-b807-405c-94c5-e4942c669e3a');\n",
              "          const dataTable =\n",
              "            await google.colab.kernel.invokeFunction('convertToInteractive',\n",
              "                                                     [key], {});\n",
              "          if (!dataTable) return;\n",
              "\n",
              "          const docLinkHtml = 'Like what you see? Visit the ' +\n",
              "            '<a target=\"_blank\" href=https://colab.research.google.com/notebooks/data_table.ipynb>data table notebook</a>'\n",
              "            + ' to learn more about interactive tables.';\n",
              "          element.innerHTML = '';\n",
              "          dataTable['output_type'] = 'display_data';\n",
              "          await google.colab.output.renderOutput(dataTable, element);\n",
              "          const docLink = document.createElement('div');\n",
              "          docLink.innerHTML = docLinkHtml;\n",
              "          element.appendChild(docLink);\n",
              "        }\n",
              "      </script>\n",
              "    </div>\n",
              "  </div>\n",
              "  "
            ]
          },
          "metadata": {},
          "execution_count": 1
        }
      ]
    }
  ]
}